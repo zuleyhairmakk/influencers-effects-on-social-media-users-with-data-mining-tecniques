{
  "cells": [
    {
      "cell_type": "code",
      "execution_count": null,
      "metadata": {
        "id": "_rn_-Fr4G4Mi"
      },
      "outputs": [],
      "source": [
        "import openpyxl\n",
        "\n",
        "# Open the workbook\n",
        "wb = openpyxl.load_workbook('/content/önemlidosyaaa.xlsx')\n",
        "\n",
        "# Select the sheet\n",
        "sheet = wb['Sayfa1']\n",
        "\n",
        "# Loop through the rows of the sheet\n",
        "for row in sheet.iter_rows(min_row=2, max_row=sheet.max_row, min_col=1, max_col=2):\n",
        "    # Read the tweet text and result from the cells\n",
        "    tweet_text = row[0].value\n",
        "    result = row[1].value\n",
        "\n",
        "    # Convert the tweet text and result to lowercase\n",
        "    if isinstance(tweet_text, str):\n",
        "        tweet_text_lower = tweet_text.lower()\n",
        "    else:\n",
        "        tweet_text_lower = tweet_text\n",
        "        \n",
        "    if isinstance(result, str):\n",
        "        result_lower = result.lower()\n",
        "    else:\n",
        "        result_lower = result\n",
        "\n",
        "    # Write the lowercase text and result back to the cells\n",
        "    row[0].value = tweet_text_lower\n",
        "    row[1].value = result_lower\n",
        "\n",
        "# Save the workbook to a different file\n",
        "wb.save('/content/Yeni Microsoft Excel Çalışma Sayfası.xlsx')"
      ]
    }
  ],
  "metadata": {
    "kernelspec": {
      "display_name": "base",
      "language": "python",
      "name": "python3"
    },
    "language_info": {
      "codemirror_mode": {
        "name": "ipython",
        "version": 3
      },
      "file_extension": ".py",
      "mimetype": "text/x-python",
      "name": "python",
      "nbconvert_exporter": "python",
      "pygments_lexer": "ipython3",
      "version": "3.8.3 (default, Jul  2 2020, 17:30:36) [MSC v.1916 64 bit (AMD64)]"
    },
    "orig_nbformat": 4,
    "vscode": {
      "interpreter": {
        "hash": "a71a9e4fb054fff428071484f7faa898cb9ecb31a518fe88e3463da9af879578"
      }
    },
    "colab": {
      "provenance": []
    }
  },
  "nbformat": 4,
  "nbformat_minor": 0
}